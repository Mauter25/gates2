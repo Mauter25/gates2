{
 "cells": [
  {
   "cell_type": "code",
   "execution_count": 736,
   "metadata": {
    "collapsed": true
   },
   "outputs": [],
   "source": [
    "import pandas as pd\n",
    "from sklearn import preprocessing\n",
    "from sklearn.linear_model import LogisticRegression\n",
    "from sklearn.preprocessing import StandardScaler\n",
    "from sklearn.metrics import classification_report\n",
    "import numpy as np\n",
    "import matplotlib\n",
    "import matplotlib.pyplot as plt\n",
    "from sklearn.model_selection import train_test_split"
   ]
  },
  {
   "cell_type": "markdown",
   "source": [
    "# splitting dataset"
   ],
   "metadata": {
    "collapsed": false
   }
  },
  {
   "cell_type": "code",
   "execution_count": 737,
   "outputs": [],
   "source": [
    "df = pd.read_csv(r\"C:\\Users\\Alexander\\PycharmProjects\\gates\\train.csv\")\n",
    "df_test=pd.read_csv(r\"C:\\Users\\Alexander\\PycharmProjects\\gates\\test.csv\")\n",
    "df_lag=pd.read_csv(r'C:\\Users\\Alexander\\PycharmProjects\\gates\\submit_lag.csv')"
   ],
   "metadata": {
    "collapsed": false
   }
  },
  {
   "cell_type": "code",
   "execution_count": 738,
   "outputs": [
    {
     "data": {
      "text/plain": "      row_id  target\n0      37518       3\n1      37519       3\n2      37520      15\n3      37521      15\n4      37522      18\n...      ...     ...\n7120   44638      19\n7121   44639      19\n7122   44640      19\n7123   44641      54\n7124   44642      54\n\n[7125 rows x 2 columns]",
      "text/html": "<div>\n<style scoped>\n    .dataframe tbody tr th:only-of-type {\n        vertical-align: middle;\n    }\n\n    .dataframe tbody tr th {\n        vertical-align: top;\n    }\n\n    .dataframe thead th {\n        text-align: right;\n    }\n</style>\n<table border=\"1\" class=\"dataframe\">\n  <thead>\n    <tr style=\"text-align: right;\">\n      <th></th>\n      <th>row_id</th>\n      <th>target</th>\n    </tr>\n  </thead>\n  <tbody>\n    <tr>\n      <th>0</th>\n      <td>37518</td>\n      <td>3</td>\n    </tr>\n    <tr>\n      <th>1</th>\n      <td>37519</td>\n      <td>3</td>\n    </tr>\n    <tr>\n      <th>2</th>\n      <td>37520</td>\n      <td>15</td>\n    </tr>\n    <tr>\n      <th>3</th>\n      <td>37521</td>\n      <td>15</td>\n    </tr>\n    <tr>\n      <th>4</th>\n      <td>37522</td>\n      <td>18</td>\n    </tr>\n    <tr>\n      <th>...</th>\n      <td>...</td>\n      <td>...</td>\n    </tr>\n    <tr>\n      <th>7120</th>\n      <td>44638</td>\n      <td>19</td>\n    </tr>\n    <tr>\n      <th>7121</th>\n      <td>44639</td>\n      <td>19</td>\n    </tr>\n    <tr>\n      <th>7122</th>\n      <td>44640</td>\n      <td>19</td>\n    </tr>\n    <tr>\n      <th>7123</th>\n      <td>44641</td>\n      <td>54</td>\n    </tr>\n    <tr>\n      <th>7124</th>\n      <td>44642</td>\n      <td>54</td>\n    </tr>\n  </tbody>\n</table>\n<p>7125 rows × 2 columns</p>\n</div>"
     },
     "execution_count": 738,
     "metadata": {},
     "output_type": "execute_result"
    }
   ],
   "source": [
    "df_lag"
   ],
   "metadata": {
    "collapsed": false
   }
  },
  {
   "cell_type": "code",
   "execution_count": 739,
   "outputs": [],
   "source": [
    "date = pd.to_datetime(df[\"timestamp\"])"
   ],
   "metadata": {
    "collapsed": false
   }
  },
  {
   "cell_type": "code",
   "execution_count": 740,
   "outputs": [],
   "source": [
    "df['date']=date\n",
    "df.drop('timestamp',axis=1,inplace=True)\n",
    "df.drop('row_id',axis=1,inplace=True)"
   ],
   "metadata": {
    "collapsed": false
   }
  },
  {
   "cell_type": "code",
   "execution_count": 744,
   "outputs": [],
   "source": [
    "hour = df[\"date\"].dt.hour\n",
    "minute = df[\"date\"].dt.minute\n",
    "day = df[\"date\"].dt.day\n",
    "month = df[\"date\"].dt.month\n",
    "day_of_week_num = df[\"date\"].dt.strftime(\"%w\")\n",
    "day_of_week = df[\"date\"].dt.day_name()\n"
   ],
   "metadata": {
    "collapsed": false
   }
  },
  {
   "cell_type": "code",
   "execution_count": 745,
   "outputs": [],
   "source": [
    "df['lag']=df['user_id'].shift(1)\n",
    "df[\"hour\"] = hour\n",
    "df[\"minute\"] = minute\n",
    "df[\"day\"] = day\n",
    "df[\"month\"] = month\n",
    "df[\"day_of_week_num\"] = day_of_week_num\n",
    "df[\"day_of_week\"] = day_of_week\n"
   ],
   "metadata": {
    "collapsed": false
   }
  },
  {
   "cell_type": "code",
   "execution_count": 746,
   "outputs": [],
   "source": [
    "date = pd.to_datetime(df_test[\"timestamp\"])\n",
    "df_test['date']=date"
   ],
   "metadata": {
    "collapsed": false
   }
  },
  {
   "cell_type": "code",
   "execution_count": 747,
   "outputs": [],
   "source": [
    "\n",
    "hour = df_test[\"date\"].dt.hour\n",
    "minute = df_test[\"date\"].dt.minute\n",
    "day = df_test[\"date\"].dt.day\n",
    "month = df_test[\"date\"].dt.month\n",
    "day_of_week_num = df_test[\"date\"].dt.strftime(\"%w\")\n",
    "day_of_week = df_test[\"date\"].dt.day_name()"
   ],
   "metadata": {
    "collapsed": false
   }
  },
  {
   "cell_type": "code",
   "execution_count": 749,
   "outputs": [],
   "source": [
    "df_test['lag']=df_lag['target'].shift(1)\n",
    "df_test[\"hour\"] = hour\n",
    "df_test[\"minute\"] = minute\n",
    "df_test[\"day\"] = day\n",
    "df_test[\"month\"] = month\n",
    "df_test[\"day_of_week_num\"] = day_of_week_num\n",
    "df_test[\"day_of_week\"] = day_of_week"
   ],
   "metadata": {
    "collapsed": false
   }
  },
  {
   "cell_type": "code",
   "execution_count": 751,
   "outputs": [],
   "source": [
    "\n",
    "df_test.drop(['date'],axis=1,inplace=True)"
   ],
   "metadata": {
    "collapsed": false
   }
  },
  {
   "cell_type": "markdown",
   "source": [
    "# df clear"
   ],
   "metadata": {
    "collapsed": false
   }
  },
  {
   "cell_type": "code",
   "execution_count": 752,
   "outputs": [],
   "source": [
    "df_clear=pd.read_csv(r'C:\\Users\\Alexander\\PycharmProjects\\gates\\filtered_data.csv')"
   ],
   "metadata": {
    "collapsed": false
   }
  },
  {
   "cell_type": "code",
   "execution_count": 753,
   "outputs": [],
   "source": [
    "date = pd.to_datetime(df_clear[\"date\"])\n",
    "df_clear['date']=date"
   ],
   "metadata": {
    "collapsed": false
   }
  },
  {
   "cell_type": "code",
   "execution_count": 754,
   "outputs": [],
   "source": [
    "hour = df_clear[\"date\"].dt.hour\n",
    "minute = df_clear[\"date\"].dt.minute\n",
    "day = df_clear[\"date\"].dt.day\n",
    "month = df_clear[\"date\"].dt.month\n",
    "day_of_week_num = df_clear[\"date\"].dt.strftime(\"%w\")\n",
    "day_of_week = df_clear[\"date\"].dt.day_name()"
   ],
   "metadata": {
    "collapsed": false
   }
  },
  {
   "cell_type": "code",
   "execution_count": 755,
   "outputs": [],
   "source": [
    "df_clear[\"hour\"] = hour\n",
    "df_clear[\"minute\"] = minute\n",
    "df_clear[\"day\"] = day\n",
    "df_clear[\"month\"] = month\n",
    "df_clear[\"day_of_week_num\"] = day_of_week_num\n",
    "df_clear[\"day_of_week\"] = day_of_week"
   ],
   "metadata": {
    "collapsed": false
   }
  },
  {
   "cell_type": "code",
   "execution_count": 756,
   "outputs": [],
   "source": [
    "df_clear['date']=date\n",
    "\n",
    "df_clear.drop(['date'],axis=1,inplace=True)"
   ],
   "metadata": {
    "collapsed": false
   }
  },
  {
   "cell_type": "code",
   "execution_count": 757,
   "outputs": [
    {
     "data": {
      "text/plain": "       Unnamed: 0  user_id  gate_id  hour  minute  day  month day_of_week_num   \n0               0       18        7     9       8   29      7               5  \\\n1               5       18       10     9      10   29      7               5   \n2               6       18       11     9      32   29      7               5   \n3               9        1        7     9      33   29      7               5   \n4              14       18       10     9      34   29      7               5   \n...           ...      ...      ...   ...     ...  ...    ...             ...   \n13664       37495       54       11    19      46   30     12               5   \n13665       37500       29       11    20      34   30     12               5   \n13666       37507        6        7    17      19   31     12               6   \n13667       37512        6       10    17      21   31     12               6   \n13668       37513        6       11    20      38   31     12               6   \n\n      day_of_week  \n0          Friday  \n1          Friday  \n2          Friday  \n3          Friday  \n4          Friday  \n...           ...  \n13664      Friday  \n13665      Friday  \n13666    Saturday  \n13667    Saturday  \n13668    Saturday  \n\n[13669 rows x 9 columns]",
      "text/html": "<div>\n<style scoped>\n    .dataframe tbody tr th:only-of-type {\n        vertical-align: middle;\n    }\n\n    .dataframe tbody tr th {\n        vertical-align: top;\n    }\n\n    .dataframe thead th {\n        text-align: right;\n    }\n</style>\n<table border=\"1\" class=\"dataframe\">\n  <thead>\n    <tr style=\"text-align: right;\">\n      <th></th>\n      <th>Unnamed: 0</th>\n      <th>user_id</th>\n      <th>gate_id</th>\n      <th>hour</th>\n      <th>minute</th>\n      <th>day</th>\n      <th>month</th>\n      <th>day_of_week_num</th>\n      <th>day_of_week</th>\n    </tr>\n  </thead>\n  <tbody>\n    <tr>\n      <th>0</th>\n      <td>0</td>\n      <td>18</td>\n      <td>7</td>\n      <td>9</td>\n      <td>8</td>\n      <td>29</td>\n      <td>7</td>\n      <td>5</td>\n      <td>Friday</td>\n    </tr>\n    <tr>\n      <th>1</th>\n      <td>5</td>\n      <td>18</td>\n      <td>10</td>\n      <td>9</td>\n      <td>10</td>\n      <td>29</td>\n      <td>7</td>\n      <td>5</td>\n      <td>Friday</td>\n    </tr>\n    <tr>\n      <th>2</th>\n      <td>6</td>\n      <td>18</td>\n      <td>11</td>\n      <td>9</td>\n      <td>32</td>\n      <td>29</td>\n      <td>7</td>\n      <td>5</td>\n      <td>Friday</td>\n    </tr>\n    <tr>\n      <th>3</th>\n      <td>9</td>\n      <td>1</td>\n      <td>7</td>\n      <td>9</td>\n      <td>33</td>\n      <td>29</td>\n      <td>7</td>\n      <td>5</td>\n      <td>Friday</td>\n    </tr>\n    <tr>\n      <th>4</th>\n      <td>14</td>\n      <td>18</td>\n      <td>10</td>\n      <td>9</td>\n      <td>34</td>\n      <td>29</td>\n      <td>7</td>\n      <td>5</td>\n      <td>Friday</td>\n    </tr>\n    <tr>\n      <th>...</th>\n      <td>...</td>\n      <td>...</td>\n      <td>...</td>\n      <td>...</td>\n      <td>...</td>\n      <td>...</td>\n      <td>...</td>\n      <td>...</td>\n      <td>...</td>\n    </tr>\n    <tr>\n      <th>13664</th>\n      <td>37495</td>\n      <td>54</td>\n      <td>11</td>\n      <td>19</td>\n      <td>46</td>\n      <td>30</td>\n      <td>12</td>\n      <td>5</td>\n      <td>Friday</td>\n    </tr>\n    <tr>\n      <th>13665</th>\n      <td>37500</td>\n      <td>29</td>\n      <td>11</td>\n      <td>20</td>\n      <td>34</td>\n      <td>30</td>\n      <td>12</td>\n      <td>5</td>\n      <td>Friday</td>\n    </tr>\n    <tr>\n      <th>13666</th>\n      <td>37507</td>\n      <td>6</td>\n      <td>7</td>\n      <td>17</td>\n      <td>19</td>\n      <td>31</td>\n      <td>12</td>\n      <td>6</td>\n      <td>Saturday</td>\n    </tr>\n    <tr>\n      <th>13667</th>\n      <td>37512</td>\n      <td>6</td>\n      <td>10</td>\n      <td>17</td>\n      <td>21</td>\n      <td>31</td>\n      <td>12</td>\n      <td>6</td>\n      <td>Saturday</td>\n    </tr>\n    <tr>\n      <th>13668</th>\n      <td>37513</td>\n      <td>6</td>\n      <td>11</td>\n      <td>20</td>\n      <td>38</td>\n      <td>31</td>\n      <td>12</td>\n      <td>6</td>\n      <td>Saturday</td>\n    </tr>\n  </tbody>\n</table>\n<p>13669 rows × 9 columns</p>\n</div>"
     },
     "execution_count": 757,
     "metadata": {},
     "output_type": "execute_result"
    }
   ],
   "source": [
    "df_clear"
   ],
   "metadata": {
    "collapsed": false
   }
  },
  {
   "cell_type": "code",
   "execution_count": 758,
   "outputs": [
    {
     "data": {
      "text/plain": "       user_id  gate_id                date   lag  hour  minute  day  month   \n0           18        7 2022-07-29 09:08:54   NaN     9       8   29      7  \\\n1           18        9 2022-07-29 09:09:54  18.0     9       9   29      7   \n2           18        9 2022-07-29 09:09:54  18.0     9       9   29      7   \n3           18        5 2022-07-29 09:10:06  18.0     9      10   29      7   \n4           18        5 2022-07-29 09:10:08  18.0     9      10   29      7   \n...        ...      ...                 ...   ...   ...     ...  ...    ...   \n37513        6       11 2022-12-31 20:38:56   6.0    20      38   31     12   \n37514        6        6 2022-12-31 20:39:22   6.0    20      39   31     12   \n37515        6        6 2022-12-31 20:39:23   6.0    20      39   31     12   \n37516        6        9 2022-12-31 20:39:31   6.0    20      39   31     12   \n37517        6        9 2022-12-31 20:39:31   6.0    20      39   31     12   \n\n      day_of_week_num day_of_week  \n0                   5      Friday  \n1                   5      Friday  \n2                   5      Friday  \n3                   5      Friday  \n4                   5      Friday  \n...               ...         ...  \n37513               6    Saturday  \n37514               6    Saturday  \n37515               6    Saturday  \n37516               6    Saturday  \n37517               6    Saturday  \n\n[37518 rows x 10 columns]",
      "text/html": "<div>\n<style scoped>\n    .dataframe tbody tr th:only-of-type {\n        vertical-align: middle;\n    }\n\n    .dataframe tbody tr th {\n        vertical-align: top;\n    }\n\n    .dataframe thead th {\n        text-align: right;\n    }\n</style>\n<table border=\"1\" class=\"dataframe\">\n  <thead>\n    <tr style=\"text-align: right;\">\n      <th></th>\n      <th>user_id</th>\n      <th>gate_id</th>\n      <th>date</th>\n      <th>lag</th>\n      <th>hour</th>\n      <th>minute</th>\n      <th>day</th>\n      <th>month</th>\n      <th>day_of_week_num</th>\n      <th>day_of_week</th>\n    </tr>\n  </thead>\n  <tbody>\n    <tr>\n      <th>0</th>\n      <td>18</td>\n      <td>7</td>\n      <td>2022-07-29 09:08:54</td>\n      <td>NaN</td>\n      <td>9</td>\n      <td>8</td>\n      <td>29</td>\n      <td>7</td>\n      <td>5</td>\n      <td>Friday</td>\n    </tr>\n    <tr>\n      <th>1</th>\n      <td>18</td>\n      <td>9</td>\n      <td>2022-07-29 09:09:54</td>\n      <td>18.0</td>\n      <td>9</td>\n      <td>9</td>\n      <td>29</td>\n      <td>7</td>\n      <td>5</td>\n      <td>Friday</td>\n    </tr>\n    <tr>\n      <th>2</th>\n      <td>18</td>\n      <td>9</td>\n      <td>2022-07-29 09:09:54</td>\n      <td>18.0</td>\n      <td>9</td>\n      <td>9</td>\n      <td>29</td>\n      <td>7</td>\n      <td>5</td>\n      <td>Friday</td>\n    </tr>\n    <tr>\n      <th>3</th>\n      <td>18</td>\n      <td>5</td>\n      <td>2022-07-29 09:10:06</td>\n      <td>18.0</td>\n      <td>9</td>\n      <td>10</td>\n      <td>29</td>\n      <td>7</td>\n      <td>5</td>\n      <td>Friday</td>\n    </tr>\n    <tr>\n      <th>4</th>\n      <td>18</td>\n      <td>5</td>\n      <td>2022-07-29 09:10:08</td>\n      <td>18.0</td>\n      <td>9</td>\n      <td>10</td>\n      <td>29</td>\n      <td>7</td>\n      <td>5</td>\n      <td>Friday</td>\n    </tr>\n    <tr>\n      <th>...</th>\n      <td>...</td>\n      <td>...</td>\n      <td>...</td>\n      <td>...</td>\n      <td>...</td>\n      <td>...</td>\n      <td>...</td>\n      <td>...</td>\n      <td>...</td>\n      <td>...</td>\n    </tr>\n    <tr>\n      <th>37513</th>\n      <td>6</td>\n      <td>11</td>\n      <td>2022-12-31 20:38:56</td>\n      <td>6.0</td>\n      <td>20</td>\n      <td>38</td>\n      <td>31</td>\n      <td>12</td>\n      <td>6</td>\n      <td>Saturday</td>\n    </tr>\n    <tr>\n      <th>37514</th>\n      <td>6</td>\n      <td>6</td>\n      <td>2022-12-31 20:39:22</td>\n      <td>6.0</td>\n      <td>20</td>\n      <td>39</td>\n      <td>31</td>\n      <td>12</td>\n      <td>6</td>\n      <td>Saturday</td>\n    </tr>\n    <tr>\n      <th>37515</th>\n      <td>6</td>\n      <td>6</td>\n      <td>2022-12-31 20:39:23</td>\n      <td>6.0</td>\n      <td>20</td>\n      <td>39</td>\n      <td>31</td>\n      <td>12</td>\n      <td>6</td>\n      <td>Saturday</td>\n    </tr>\n    <tr>\n      <th>37516</th>\n      <td>6</td>\n      <td>9</td>\n      <td>2022-12-31 20:39:31</td>\n      <td>6.0</td>\n      <td>20</td>\n      <td>39</td>\n      <td>31</td>\n      <td>12</td>\n      <td>6</td>\n      <td>Saturday</td>\n    </tr>\n    <tr>\n      <th>37517</th>\n      <td>6</td>\n      <td>9</td>\n      <td>2022-12-31 20:39:31</td>\n      <td>6.0</td>\n      <td>20</td>\n      <td>39</td>\n      <td>31</td>\n      <td>12</td>\n      <td>6</td>\n      <td>Saturday</td>\n    </tr>\n  </tbody>\n</table>\n<p>37518 rows × 10 columns</p>\n</div>"
     },
     "execution_count": 758,
     "metadata": {},
     "output_type": "execute_result"
    }
   ],
   "source": [
    "df"
   ],
   "metadata": {
    "collapsed": false
   }
  },
  {
   "cell_type": "code",
   "execution_count": 759,
   "outputs": [
    {
     "data": {
      "text/plain": "      row_id            timestamp  gate_id   lag  hour  minute  day  month   \n0      37518  2023-01-03 08:21:00        9   NaN     8      21    3      1  \\\n1      37519  2023-01-03 08:21:00        9   3.0     8      21    3      1   \n2      37520  2023-01-03 08:21:18        5   3.0     8      21    3      1   \n3      37521  2023-01-03 08:21:19        5  15.0     8      21    3      1   \n4      37522  2023-01-03 08:21:39       10  15.0     8      21    3      1   \n...      ...                  ...      ...   ...   ...     ...  ...    ...   \n7120   44638  2023-02-24 19:43:36       11  14.0    19      43   24      2   \n7121   44639  2023-02-24 19:44:00        4  19.0    19      44   24      2   \n7122   44640  2023-02-24 19:44:01        4  19.0    19      44   24      2   \n7123   44641  2023-02-24 19:44:09        9  19.0    19      44   24      2   \n7124   44642  2023-02-24 19:44:09        9  54.0    19      44   24      2   \n\n     day_of_week_num day_of_week  \n0                  2     Tuesday  \n1                  2     Tuesday  \n2                  2     Tuesday  \n3                  2     Tuesday  \n4                  2     Tuesday  \n...              ...         ...  \n7120               5      Friday  \n7121               5      Friday  \n7122               5      Friday  \n7123               5      Friday  \n7124               5      Friday  \n\n[7125 rows x 10 columns]",
      "text/html": "<div>\n<style scoped>\n    .dataframe tbody tr th:only-of-type {\n        vertical-align: middle;\n    }\n\n    .dataframe tbody tr th {\n        vertical-align: top;\n    }\n\n    .dataframe thead th {\n        text-align: right;\n    }\n</style>\n<table border=\"1\" class=\"dataframe\">\n  <thead>\n    <tr style=\"text-align: right;\">\n      <th></th>\n      <th>row_id</th>\n      <th>timestamp</th>\n      <th>gate_id</th>\n      <th>lag</th>\n      <th>hour</th>\n      <th>minute</th>\n      <th>day</th>\n      <th>month</th>\n      <th>day_of_week_num</th>\n      <th>day_of_week</th>\n    </tr>\n  </thead>\n  <tbody>\n    <tr>\n      <th>0</th>\n      <td>37518</td>\n      <td>2023-01-03 08:21:00</td>\n      <td>9</td>\n      <td>NaN</td>\n      <td>8</td>\n      <td>21</td>\n      <td>3</td>\n      <td>1</td>\n      <td>2</td>\n      <td>Tuesday</td>\n    </tr>\n    <tr>\n      <th>1</th>\n      <td>37519</td>\n      <td>2023-01-03 08:21:00</td>\n      <td>9</td>\n      <td>3.0</td>\n      <td>8</td>\n      <td>21</td>\n      <td>3</td>\n      <td>1</td>\n      <td>2</td>\n      <td>Tuesday</td>\n    </tr>\n    <tr>\n      <th>2</th>\n      <td>37520</td>\n      <td>2023-01-03 08:21:18</td>\n      <td>5</td>\n      <td>3.0</td>\n      <td>8</td>\n      <td>21</td>\n      <td>3</td>\n      <td>1</td>\n      <td>2</td>\n      <td>Tuesday</td>\n    </tr>\n    <tr>\n      <th>3</th>\n      <td>37521</td>\n      <td>2023-01-03 08:21:19</td>\n      <td>5</td>\n      <td>15.0</td>\n      <td>8</td>\n      <td>21</td>\n      <td>3</td>\n      <td>1</td>\n      <td>2</td>\n      <td>Tuesday</td>\n    </tr>\n    <tr>\n      <th>4</th>\n      <td>37522</td>\n      <td>2023-01-03 08:21:39</td>\n      <td>10</td>\n      <td>15.0</td>\n      <td>8</td>\n      <td>21</td>\n      <td>3</td>\n      <td>1</td>\n      <td>2</td>\n      <td>Tuesday</td>\n    </tr>\n    <tr>\n      <th>...</th>\n      <td>...</td>\n      <td>...</td>\n      <td>...</td>\n      <td>...</td>\n      <td>...</td>\n      <td>...</td>\n      <td>...</td>\n      <td>...</td>\n      <td>...</td>\n      <td>...</td>\n    </tr>\n    <tr>\n      <th>7120</th>\n      <td>44638</td>\n      <td>2023-02-24 19:43:36</td>\n      <td>11</td>\n      <td>14.0</td>\n      <td>19</td>\n      <td>43</td>\n      <td>24</td>\n      <td>2</td>\n      <td>5</td>\n      <td>Friday</td>\n    </tr>\n    <tr>\n      <th>7121</th>\n      <td>44639</td>\n      <td>2023-02-24 19:44:00</td>\n      <td>4</td>\n      <td>19.0</td>\n      <td>19</td>\n      <td>44</td>\n      <td>24</td>\n      <td>2</td>\n      <td>5</td>\n      <td>Friday</td>\n    </tr>\n    <tr>\n      <th>7122</th>\n      <td>44640</td>\n      <td>2023-02-24 19:44:01</td>\n      <td>4</td>\n      <td>19.0</td>\n      <td>19</td>\n      <td>44</td>\n      <td>24</td>\n      <td>2</td>\n      <td>5</td>\n      <td>Friday</td>\n    </tr>\n    <tr>\n      <th>7123</th>\n      <td>44641</td>\n      <td>2023-02-24 19:44:09</td>\n      <td>9</td>\n      <td>19.0</td>\n      <td>19</td>\n      <td>44</td>\n      <td>24</td>\n      <td>2</td>\n      <td>5</td>\n      <td>Friday</td>\n    </tr>\n    <tr>\n      <th>7124</th>\n      <td>44642</td>\n      <td>2023-02-24 19:44:09</td>\n      <td>9</td>\n      <td>54.0</td>\n      <td>19</td>\n      <td>44</td>\n      <td>24</td>\n      <td>2</td>\n      <td>5</td>\n      <td>Friday</td>\n    </tr>\n  </tbody>\n</table>\n<p>7125 rows × 10 columns</p>\n</div>"
     },
     "execution_count": 759,
     "metadata": {},
     "output_type": "execute_result"
    }
   ],
   "source": [
    "df_test"
   ],
   "metadata": {
    "collapsed": false
   }
  },
  {
   "cell_type": "code",
   "execution_count": 761,
   "outputs": [
    {
     "data": {
      "text/plain": "       gate_id  hour  minute  day  month day_of_week_num day_of_week   lag\n0            7     9       8   29      7               5      Friday   NaN\n1            9     9       9   29      7               5      Friday  18.0\n2            9     9       9   29      7               5      Friday  18.0\n3            5     9      10   29      7               5      Friday  18.0\n4            5     9      10   29      7               5      Friday  18.0\n...        ...   ...     ...  ...    ...             ...         ...   ...\n37513       11    20      38   31     12               6    Saturday   6.0\n37514        6    20      39   31     12               6    Saturday   6.0\n37515        6    20      39   31     12               6    Saturday   6.0\n37516        9    20      39   31     12               6    Saturday   6.0\n37517        9    20      39   31     12               6    Saturday   6.0\n\n[37518 rows x 8 columns]",
      "text/html": "<div>\n<style scoped>\n    .dataframe tbody tr th:only-of-type {\n        vertical-align: middle;\n    }\n\n    .dataframe tbody tr th {\n        vertical-align: top;\n    }\n\n    .dataframe thead th {\n        text-align: right;\n    }\n</style>\n<table border=\"1\" class=\"dataframe\">\n  <thead>\n    <tr style=\"text-align: right;\">\n      <th></th>\n      <th>gate_id</th>\n      <th>hour</th>\n      <th>minute</th>\n      <th>day</th>\n      <th>month</th>\n      <th>day_of_week_num</th>\n      <th>day_of_week</th>\n      <th>lag</th>\n    </tr>\n  </thead>\n  <tbody>\n    <tr>\n      <th>0</th>\n      <td>7</td>\n      <td>9</td>\n      <td>8</td>\n      <td>29</td>\n      <td>7</td>\n      <td>5</td>\n      <td>Friday</td>\n      <td>NaN</td>\n    </tr>\n    <tr>\n      <th>1</th>\n      <td>9</td>\n      <td>9</td>\n      <td>9</td>\n      <td>29</td>\n      <td>7</td>\n      <td>5</td>\n      <td>Friday</td>\n      <td>18.0</td>\n    </tr>\n    <tr>\n      <th>2</th>\n      <td>9</td>\n      <td>9</td>\n      <td>9</td>\n      <td>29</td>\n      <td>7</td>\n      <td>5</td>\n      <td>Friday</td>\n      <td>18.0</td>\n    </tr>\n    <tr>\n      <th>3</th>\n      <td>5</td>\n      <td>9</td>\n      <td>10</td>\n      <td>29</td>\n      <td>7</td>\n      <td>5</td>\n      <td>Friday</td>\n      <td>18.0</td>\n    </tr>\n    <tr>\n      <th>4</th>\n      <td>5</td>\n      <td>9</td>\n      <td>10</td>\n      <td>29</td>\n      <td>7</td>\n      <td>5</td>\n      <td>Friday</td>\n      <td>18.0</td>\n    </tr>\n    <tr>\n      <th>...</th>\n      <td>...</td>\n      <td>...</td>\n      <td>...</td>\n      <td>...</td>\n      <td>...</td>\n      <td>...</td>\n      <td>...</td>\n      <td>...</td>\n    </tr>\n    <tr>\n      <th>37513</th>\n      <td>11</td>\n      <td>20</td>\n      <td>38</td>\n      <td>31</td>\n      <td>12</td>\n      <td>6</td>\n      <td>Saturday</td>\n      <td>6.0</td>\n    </tr>\n    <tr>\n      <th>37514</th>\n      <td>6</td>\n      <td>20</td>\n      <td>39</td>\n      <td>31</td>\n      <td>12</td>\n      <td>6</td>\n      <td>Saturday</td>\n      <td>6.0</td>\n    </tr>\n    <tr>\n      <th>37515</th>\n      <td>6</td>\n      <td>20</td>\n      <td>39</td>\n      <td>31</td>\n      <td>12</td>\n      <td>6</td>\n      <td>Saturday</td>\n      <td>6.0</td>\n    </tr>\n    <tr>\n      <th>37516</th>\n      <td>9</td>\n      <td>20</td>\n      <td>39</td>\n      <td>31</td>\n      <td>12</td>\n      <td>6</td>\n      <td>Saturday</td>\n      <td>6.0</td>\n    </tr>\n    <tr>\n      <th>37517</th>\n      <td>9</td>\n      <td>20</td>\n      <td>39</td>\n      <td>31</td>\n      <td>12</td>\n      <td>6</td>\n      <td>Saturday</td>\n      <td>6.0</td>\n    </tr>\n  </tbody>\n</table>\n<p>37518 rows × 8 columns</p>\n</div>"
     },
     "execution_count": 761,
     "metadata": {},
     "output_type": "execute_result"
    }
   ],
   "source": [
    "x=df[['gate_id', 'hour', 'minute', 'day', 'month', 'day_of_week_num','day_of_week','lag']]\n",
    "y=df['user_id']\n",
    "x"
   ],
   "metadata": {
    "collapsed": false
   }
  },
  {
   "cell_type": "code",
   "execution_count": 762,
   "outputs": [
    {
     "data": {
      "text/plain": "      gate_id  hour  minute  day  month day_of_week_num day_of_week   lag\n0           9     8      21    3      1               2     Tuesday   NaN\n1           9     8      21    3      1               2     Tuesday   3.0\n2           5     8      21    3      1               2     Tuesday   3.0\n3           5     8      21    3      1               2     Tuesday  15.0\n4          10     8      21    3      1               2     Tuesday  15.0\n...       ...   ...     ...  ...    ...             ...         ...   ...\n7120       11    19      43   24      2               5      Friday  14.0\n7121        4    19      44   24      2               5      Friday  19.0\n7122        4    19      44   24      2               5      Friday  19.0\n7123        9    19      44   24      2               5      Friday  19.0\n7124        9    19      44   24      2               5      Friday  54.0\n\n[7125 rows x 8 columns]",
      "text/html": "<div>\n<style scoped>\n    .dataframe tbody tr th:only-of-type {\n        vertical-align: middle;\n    }\n\n    .dataframe tbody tr th {\n        vertical-align: top;\n    }\n\n    .dataframe thead th {\n        text-align: right;\n    }\n</style>\n<table border=\"1\" class=\"dataframe\">\n  <thead>\n    <tr style=\"text-align: right;\">\n      <th></th>\n      <th>gate_id</th>\n      <th>hour</th>\n      <th>minute</th>\n      <th>day</th>\n      <th>month</th>\n      <th>day_of_week_num</th>\n      <th>day_of_week</th>\n      <th>lag</th>\n    </tr>\n  </thead>\n  <tbody>\n    <tr>\n      <th>0</th>\n      <td>9</td>\n      <td>8</td>\n      <td>21</td>\n      <td>3</td>\n      <td>1</td>\n      <td>2</td>\n      <td>Tuesday</td>\n      <td>NaN</td>\n    </tr>\n    <tr>\n      <th>1</th>\n      <td>9</td>\n      <td>8</td>\n      <td>21</td>\n      <td>3</td>\n      <td>1</td>\n      <td>2</td>\n      <td>Tuesday</td>\n      <td>3.0</td>\n    </tr>\n    <tr>\n      <th>2</th>\n      <td>5</td>\n      <td>8</td>\n      <td>21</td>\n      <td>3</td>\n      <td>1</td>\n      <td>2</td>\n      <td>Tuesday</td>\n      <td>3.0</td>\n    </tr>\n    <tr>\n      <th>3</th>\n      <td>5</td>\n      <td>8</td>\n      <td>21</td>\n      <td>3</td>\n      <td>1</td>\n      <td>2</td>\n      <td>Tuesday</td>\n      <td>15.0</td>\n    </tr>\n    <tr>\n      <th>4</th>\n      <td>10</td>\n      <td>8</td>\n      <td>21</td>\n      <td>3</td>\n      <td>1</td>\n      <td>2</td>\n      <td>Tuesday</td>\n      <td>15.0</td>\n    </tr>\n    <tr>\n      <th>...</th>\n      <td>...</td>\n      <td>...</td>\n      <td>...</td>\n      <td>...</td>\n      <td>...</td>\n      <td>...</td>\n      <td>...</td>\n      <td>...</td>\n    </tr>\n    <tr>\n      <th>7120</th>\n      <td>11</td>\n      <td>19</td>\n      <td>43</td>\n      <td>24</td>\n      <td>2</td>\n      <td>5</td>\n      <td>Friday</td>\n      <td>14.0</td>\n    </tr>\n    <tr>\n      <th>7121</th>\n      <td>4</td>\n      <td>19</td>\n      <td>44</td>\n      <td>24</td>\n      <td>2</td>\n      <td>5</td>\n      <td>Friday</td>\n      <td>19.0</td>\n    </tr>\n    <tr>\n      <th>7122</th>\n      <td>4</td>\n      <td>19</td>\n      <td>44</td>\n      <td>24</td>\n      <td>2</td>\n      <td>5</td>\n      <td>Friday</td>\n      <td>19.0</td>\n    </tr>\n    <tr>\n      <th>7123</th>\n      <td>9</td>\n      <td>19</td>\n      <td>44</td>\n      <td>24</td>\n      <td>2</td>\n      <td>5</td>\n      <td>Friday</td>\n      <td>19.0</td>\n    </tr>\n    <tr>\n      <th>7124</th>\n      <td>9</td>\n      <td>19</td>\n      <td>44</td>\n      <td>24</td>\n      <td>2</td>\n      <td>5</td>\n      <td>Friday</td>\n      <td>54.0</td>\n    </tr>\n  </tbody>\n</table>\n<p>7125 rows × 8 columns</p>\n</div>"
     },
     "execution_count": 762,
     "metadata": {},
     "output_type": "execute_result"
    }
   ],
   "source": [
    "x_test=df_test[['gate_id', 'hour', 'minute', 'day', 'month', 'day_of_week_num','day_of_week','lag']]\n",
    "\n",
    "x_test"
   ],
   "metadata": {
    "collapsed": false
   }
  },
  {
   "cell_type": "markdown",
   "source": [
    "# model 1\n",
    "added dummies"
   ],
   "metadata": {
    "collapsed": false
   }
  },
  {
   "cell_type": "code",
   "execution_count": 763,
   "outputs": [],
   "source": [],
   "metadata": {
    "collapsed": false
   }
  },
  {
   "cell_type": "code",
   "execution_count": 881,
   "outputs": [],
   "source": [
    "#x_test['gate']=x_test['gate_id']\n",
    "x_test_d=pd.get_dummies(x_test,columns=['day_of_week','hour','gate_id','minute','lag'])\n",
    "x_test_d.drop(['hour_0','hour_1','hour_3'],axis=1,inplace=True)\n",
    "#x['gate']=x['gate_id']\n",
    "x_d=pd.get_dummies(x,columns=['day_of_week','hour','gate_id','minute','lag'])\n",
    "x_d.drop(['hour_6'],axis=1,inplace=True)"
   ],
   "metadata": {
    "collapsed": false
   }
  },
  {
   "cell_type": "code",
   "execution_count": 848,
   "outputs": [
    {
     "data": {
      "text/plain": "       day  month day_of_week_num  day_of_week_Friday  day_of_week_Monday   \n0       29      7               5                True               False  \\\n1       29      7               5                True               False   \n2       29      7               5                True               False   \n3       29      7               5                True               False   \n4       29      7               5                True               False   \n...    ...    ...             ...                 ...                 ...   \n37513   31     12               6               False               False   \n37514   31     12               6               False               False   \n37515   31     12               6               False               False   \n37516   31     12               6               False               False   \n37517   31     12               6               False               False   \n\n       day_of_week_Saturday  day_of_week_Sunday  day_of_week_Thursday   \n0                     False               False                 False  \\\n1                     False               False                 False   \n2                     False               False                 False   \n3                     False               False                 False   \n4                     False               False                 False   \n...                     ...                 ...                   ...   \n37513                  True               False                 False   \n37514                  True               False                 False   \n37515                  True               False                 False   \n37516                  True               False                 False   \n37517                  True               False                 False   \n\n       day_of_week_Tuesday  day_of_week_Wednesday  ...  lag_48.0  lag_49.0   \n0                    False                  False  ...     False     False  \\\n1                    False                  False  ...     False     False   \n2                    False                  False  ...     False     False   \n3                    False                  False  ...     False     False   \n4                    False                  False  ...     False     False   \n...                    ...                    ...  ...       ...       ...   \n37513                False                  False  ...     False     False   \n37514                False                  False  ...     False     False   \n37515                False                  False  ...     False     False   \n37516                False                  False  ...     False     False   \n37517                False                  False  ...     False     False   \n\n       lag_50.0  lag_51.0  lag_52.0  lag_53.0  lag_54.0  lag_55.0  lag_56.0   \n0         False     False     False     False     False     False     False  \\\n1         False     False     False     False     False     False     False   \n2         False     False     False     False     False     False     False   \n3         False     False     False     False     False     False     False   \n4         False     False     False     False     False     False     False   \n...         ...       ...       ...       ...       ...       ...       ...   \n37513     False     False     False     False     False     False     False   \n37514     False     False     False     False     False     False     False   \n37515     False     False     False     False     False     False     False   \n37516     False     False     False     False     False     False     False   \n37517     False     False     False     False     False     False     False   \n\n       lag_57.0  \n0         False  \n1         False  \n2         False  \n3         False  \n4         False  \n...         ...  \n37513     False  \n37514     False  \n37515     False  \n37516     False  \n37517     False  \n\n[37518 rows x 160 columns]",
      "text/html": "<div>\n<style scoped>\n    .dataframe tbody tr th:only-of-type {\n        vertical-align: middle;\n    }\n\n    .dataframe tbody tr th {\n        vertical-align: top;\n    }\n\n    .dataframe thead th {\n        text-align: right;\n    }\n</style>\n<table border=\"1\" class=\"dataframe\">\n  <thead>\n    <tr style=\"text-align: right;\">\n      <th></th>\n      <th>day</th>\n      <th>month</th>\n      <th>day_of_week_num</th>\n      <th>day_of_week_Friday</th>\n      <th>day_of_week_Monday</th>\n      <th>day_of_week_Saturday</th>\n      <th>day_of_week_Sunday</th>\n      <th>day_of_week_Thursday</th>\n      <th>day_of_week_Tuesday</th>\n      <th>day_of_week_Wednesday</th>\n      <th>...</th>\n      <th>lag_48.0</th>\n      <th>lag_49.0</th>\n      <th>lag_50.0</th>\n      <th>lag_51.0</th>\n      <th>lag_52.0</th>\n      <th>lag_53.0</th>\n      <th>lag_54.0</th>\n      <th>lag_55.0</th>\n      <th>lag_56.0</th>\n      <th>lag_57.0</th>\n    </tr>\n  </thead>\n  <tbody>\n    <tr>\n      <th>0</th>\n      <td>29</td>\n      <td>7</td>\n      <td>5</td>\n      <td>True</td>\n      <td>False</td>\n      <td>False</td>\n      <td>False</td>\n      <td>False</td>\n      <td>False</td>\n      <td>False</td>\n      <td>...</td>\n      <td>False</td>\n      <td>False</td>\n      <td>False</td>\n      <td>False</td>\n      <td>False</td>\n      <td>False</td>\n      <td>False</td>\n      <td>False</td>\n      <td>False</td>\n      <td>False</td>\n    </tr>\n    <tr>\n      <th>1</th>\n      <td>29</td>\n      <td>7</td>\n      <td>5</td>\n      <td>True</td>\n      <td>False</td>\n      <td>False</td>\n      <td>False</td>\n      <td>False</td>\n      <td>False</td>\n      <td>False</td>\n      <td>...</td>\n      <td>False</td>\n      <td>False</td>\n      <td>False</td>\n      <td>False</td>\n      <td>False</td>\n      <td>False</td>\n      <td>False</td>\n      <td>False</td>\n      <td>False</td>\n      <td>False</td>\n    </tr>\n    <tr>\n      <th>2</th>\n      <td>29</td>\n      <td>7</td>\n      <td>5</td>\n      <td>True</td>\n      <td>False</td>\n      <td>False</td>\n      <td>False</td>\n      <td>False</td>\n      <td>False</td>\n      <td>False</td>\n      <td>...</td>\n      <td>False</td>\n      <td>False</td>\n      <td>False</td>\n      <td>False</td>\n      <td>False</td>\n      <td>False</td>\n      <td>False</td>\n      <td>False</td>\n      <td>False</td>\n      <td>False</td>\n    </tr>\n    <tr>\n      <th>3</th>\n      <td>29</td>\n      <td>7</td>\n      <td>5</td>\n      <td>True</td>\n      <td>False</td>\n      <td>False</td>\n      <td>False</td>\n      <td>False</td>\n      <td>False</td>\n      <td>False</td>\n      <td>...</td>\n      <td>False</td>\n      <td>False</td>\n      <td>False</td>\n      <td>False</td>\n      <td>False</td>\n      <td>False</td>\n      <td>False</td>\n      <td>False</td>\n      <td>False</td>\n      <td>False</td>\n    </tr>\n    <tr>\n      <th>4</th>\n      <td>29</td>\n      <td>7</td>\n      <td>5</td>\n      <td>True</td>\n      <td>False</td>\n      <td>False</td>\n      <td>False</td>\n      <td>False</td>\n      <td>False</td>\n      <td>False</td>\n      <td>...</td>\n      <td>False</td>\n      <td>False</td>\n      <td>False</td>\n      <td>False</td>\n      <td>False</td>\n      <td>False</td>\n      <td>False</td>\n      <td>False</td>\n      <td>False</td>\n      <td>False</td>\n    </tr>\n    <tr>\n      <th>...</th>\n      <td>...</td>\n      <td>...</td>\n      <td>...</td>\n      <td>...</td>\n      <td>...</td>\n      <td>...</td>\n      <td>...</td>\n      <td>...</td>\n      <td>...</td>\n      <td>...</td>\n      <td>...</td>\n      <td>...</td>\n      <td>...</td>\n      <td>...</td>\n      <td>...</td>\n      <td>...</td>\n      <td>...</td>\n      <td>...</td>\n      <td>...</td>\n      <td>...</td>\n      <td>...</td>\n    </tr>\n    <tr>\n      <th>37513</th>\n      <td>31</td>\n      <td>12</td>\n      <td>6</td>\n      <td>False</td>\n      <td>False</td>\n      <td>True</td>\n      <td>False</td>\n      <td>False</td>\n      <td>False</td>\n      <td>False</td>\n      <td>...</td>\n      <td>False</td>\n      <td>False</td>\n      <td>False</td>\n      <td>False</td>\n      <td>False</td>\n      <td>False</td>\n      <td>False</td>\n      <td>False</td>\n      <td>False</td>\n      <td>False</td>\n    </tr>\n    <tr>\n      <th>37514</th>\n      <td>31</td>\n      <td>12</td>\n      <td>6</td>\n      <td>False</td>\n      <td>False</td>\n      <td>True</td>\n      <td>False</td>\n      <td>False</td>\n      <td>False</td>\n      <td>False</td>\n      <td>...</td>\n      <td>False</td>\n      <td>False</td>\n      <td>False</td>\n      <td>False</td>\n      <td>False</td>\n      <td>False</td>\n      <td>False</td>\n      <td>False</td>\n      <td>False</td>\n      <td>False</td>\n    </tr>\n    <tr>\n      <th>37515</th>\n      <td>31</td>\n      <td>12</td>\n      <td>6</td>\n      <td>False</td>\n      <td>False</td>\n      <td>True</td>\n      <td>False</td>\n      <td>False</td>\n      <td>False</td>\n      <td>False</td>\n      <td>...</td>\n      <td>False</td>\n      <td>False</td>\n      <td>False</td>\n      <td>False</td>\n      <td>False</td>\n      <td>False</td>\n      <td>False</td>\n      <td>False</td>\n      <td>False</td>\n      <td>False</td>\n    </tr>\n    <tr>\n      <th>37516</th>\n      <td>31</td>\n      <td>12</td>\n      <td>6</td>\n      <td>False</td>\n      <td>False</td>\n      <td>True</td>\n      <td>False</td>\n      <td>False</td>\n      <td>False</td>\n      <td>False</td>\n      <td>...</td>\n      <td>False</td>\n      <td>False</td>\n      <td>False</td>\n      <td>False</td>\n      <td>False</td>\n      <td>False</td>\n      <td>False</td>\n      <td>False</td>\n      <td>False</td>\n      <td>False</td>\n    </tr>\n    <tr>\n      <th>37517</th>\n      <td>31</td>\n      <td>12</td>\n      <td>6</td>\n      <td>False</td>\n      <td>False</td>\n      <td>True</td>\n      <td>False</td>\n      <td>False</td>\n      <td>False</td>\n      <td>False</td>\n      <td>...</td>\n      <td>False</td>\n      <td>False</td>\n      <td>False</td>\n      <td>False</td>\n      <td>False</td>\n      <td>False</td>\n      <td>False</td>\n      <td>False</td>\n      <td>False</td>\n      <td>False</td>\n    </tr>\n  </tbody>\n</table>\n<p>37518 rows × 160 columns</p>\n</div>"
     },
     "execution_count": 848,
     "metadata": {},
     "output_type": "execute_result"
    }
   ],
   "source": [
    "x_d"
   ],
   "metadata": {
    "collapsed": false
   }
  },
  {
   "cell_type": "code",
   "execution_count": 850,
   "outputs": [],
   "source": [
    "#x_clear_d.drop('hour_6',axis=1,inplace=True)"
   ],
   "metadata": {
    "collapsed": false
   }
  },
  {
   "cell_type": "code",
   "execution_count": 851,
   "outputs": [],
   "source": [
    "#x_clear_d.drop(['gate_id_0','gate_id_16'],axis=1,inplace=True)"
   ],
   "metadata": {
    "collapsed": false
   }
  },
  {
   "cell_type": "code",
   "execution_count": 852,
   "outputs": [],
   "source": [
    "x_d.drop(['gate_id_0','gate_id_16'],axis=1,inplace=True)"
   ],
   "metadata": {
    "collapsed": false
   }
  },
  {
   "cell_type": "code",
   "execution_count": 884,
   "outputs": [],
   "source": [
    "x_test_d.drop(['month','day'],axis=1,inplace=True)"
   ],
   "metadata": {
    "collapsed": false
   }
  },
  {
   "cell_type": "code",
   "execution_count": 886,
   "outputs": [],
   "source": [
    "x_test_d.drop('day_of_week_num',axis=1,inplace=True)"
   ],
   "metadata": {
    "collapsed": false
   }
  },
  {
   "cell_type": "code",
   "execution_count": 893,
   "outputs": [],
   "source": [
    "x_d.drop('day_of_week_num',axis=1,inplace=True)"
   ],
   "metadata": {
    "collapsed": false
   }
  },
  {
   "cell_type": "code",
   "execution_count": 857,
   "outputs": [],
   "source": [
    "#x_d.drop('gate',axis=1,inplace=True)"
   ],
   "metadata": {
    "collapsed": false
   }
  },
  {
   "cell_type": "code",
   "execution_count": 858,
   "outputs": [],
   "source": [
    "#x_test_d.drop('gate',axis=1,inplace=True)"
   ],
   "metadata": {
    "collapsed": false
   }
  },
  {
   "cell_type": "code",
   "execution_count": 897,
   "outputs": [],
   "source": [
    "x_test_d.drop(['gate_id_-1','gate_id_8','gate_id_9','gate_id_12'],axis=1,inplace=True)"
   ],
   "metadata": {
    "collapsed": false
   }
  },
  {
   "cell_type": "markdown",
   "source": [
    "# MInites\n"
   ],
   "metadata": {
    "collapsed": false
   }
  },
  {
   "cell_type": "code",
   "execution_count": 860,
   "outputs": [],
   "source": [
    "#x_d.drop('minute',axis=1,inplace=True)"
   ],
   "metadata": {
    "collapsed": false
   }
  },
  {
   "cell_type": "code",
   "execution_count": 861,
   "outputs": [],
   "source": [
    "#x_test_d.drop('minute',axis=1,inplace=True)"
   ],
   "metadata": {
    "collapsed": false
   }
  },
  {
   "cell_type": "code",
   "execution_count": 896,
   "outputs": [],
   "source": [
    "x_test_d.drop('gate_id_2',axis=1,inplace=True)"
   ],
   "metadata": {
    "collapsed": false
   }
  },
  {
   "cell_type": "code",
   "execution_count": 891,
   "outputs": [],
   "source": [
    "#x_d.drop('gate_id_16',axis=1,inplace=True)\n",
    "#x_d.drop('gate_id_0',axis=1,inplace=True)\n",
    "x_d.drop(['month','day'],axis=1,inplace=True)\n"
   ],
   "metadata": {
    "collapsed": false
   }
  },
  {
   "cell_type": "code",
   "execution_count": 864,
   "outputs": [],
   "source": [
    "#x_d['lag']=x_d['gate'].shift(1).fillna(value=1)"
   ],
   "metadata": {
    "collapsed": false
   }
  },
  {
   "cell_type": "code",
   "execution_count": 865,
   "outputs": [],
   "source": [
    "#x_test_d['lag']=x_test_d['gate'].shift(1).fillna(value=1)"
   ],
   "metadata": {
    "collapsed": false
   }
  },
  {
   "cell_type": "code",
   "execution_count": 866,
   "outputs": [],
   "source": [
    "#x_d.drop(['lag'],axis=1,inplace=True)"
   ],
   "metadata": {
    "collapsed": false
   }
  },
  {
   "cell_type": "code",
   "execution_count": 867,
   "outputs": [],
   "source": [
    "#x_test_d.drop(['lag'],axis=1,inplace=True)"
   ],
   "metadata": {
    "collapsed": false
   }
  },
  {
   "cell_type": "code",
   "execution_count": 868,
   "outputs": [
    {
     "data": {
      "text/plain": "Index(['day_of_week_Friday', 'day_of_week_Monday', 'day_of_week_Saturday',\n       'day_of_week_Sunday', 'day_of_week_Thursday', 'day_of_week_Tuesday',\n       'day_of_week_Wednesday', 'hour_7', 'hour_8', 'hour_9',\n       ...\n       'lag_48.0', 'lag_49.0', 'lag_50.0', 'lag_51.0', 'lag_52.0', 'lag_53.0',\n       'lag_54.0', 'lag_55.0', 'lag_56.0', 'lag_57.0'],\n      dtype='object', length=155)"
     },
     "execution_count": 868,
     "metadata": {},
     "output_type": "execute_result"
    }
   ],
   "source": [
    "x_d.columns\n",
    "#x_test_d.columns"
   ],
   "metadata": {
    "collapsed": false
   }
  },
  {
   "cell_type": "code",
   "execution_count": 869,
   "outputs": [],
   "source": [
    "# model_clear=LogisticRegression(solver='saga',max_iter=759,random_state=2)\n",
    "# model_clear.fit(x_clear_d,y_clear)\n",
    "# print('Accurcay:',model_clear.score(x_clear_d,y_clear) )"
   ],
   "metadata": {
    "collapsed": false
   }
  },
  {
   "cell_type": "code",
   "execution_count": 872,
   "outputs": [],
   "source": [
    "x_d.fillna(value=1,inplace=True)"
   ],
   "metadata": {
    "collapsed": false
   }
  },
  {
   "cell_type": "code",
   "execution_count": 873,
   "outputs": [],
   "source": [
    "x_test_d.fillna(value=1,inplace=True)"
   ],
   "metadata": {
    "collapsed": false
   }
  },
  {
   "cell_type": "code",
   "execution_count": 901,
   "outputs": [],
   "source": [
    "x_d.drop(list(set(x_d.columns)-set(x_test_d.columns)),inplace=True,axis=1)"
   ],
   "metadata": {
    "collapsed": false
   }
  },
  {
   "cell_type": "code",
   "execution_count": null,
   "outputs": [],
   "source": [],
   "metadata": {
    "collapsed": false
   }
  },
  {
   "cell_type": "code",
   "execution_count": 913,
   "outputs": [],
   "source": [
    "scaler=StandardScaler()\n",
    "scaler.fit(x_d)\n",
    "x_d_sc=scaler.transform(x_d)\n",
    "scaler.fit(x_test_d)\n",
    "x_test_d_sc=scaler.transform(x_test_d)"
   ],
   "metadata": {
    "collapsed": false
   }
  },
  {
   "cell_type": "code",
   "execution_count": 914,
   "outputs": [
    {
     "name": "stdout",
     "output_type": "stream",
     "text": [
      "Accuracy full: 0.6097873020949944\n"
     ]
    },
    {
     "name": "stderr",
     "output_type": "stream",
     "text": [
      "C:\\Users\\Alexander\\PycharmProjects\\gates\\venv\\Lib\\site-packages\\sklearn\\linear_model\\_sag.py:350: ConvergenceWarning: The max_iter was reached which means the coef_ did not converge\n",
      "  warnings.warn(\n"
     ]
    }
   ],
   "source": [
    "model_full=LogisticRegression(solver='saga',max_iter=800)\n",
    "model_full.fit(x_d_sc,y)\n",
    "print('Accuracy full:', model_full.score(x_d_sc,y))"
   ],
   "metadata": {
    "collapsed": false
   }
  },
  {
   "cell_type": "code",
   "execution_count": 915,
   "outputs": [
    {
     "data": {
      "text/plain": "       day_of_week_Friday  day_of_week_Monday  day_of_week_Saturday   \n0                    True               False                 False  \\\n1                    True               False                 False   \n2                    True               False                 False   \n3                    True               False                 False   \n4                    True               False                 False   \n...                   ...                 ...                   ...   \n37513               False               False                  True   \n37514               False               False                  True   \n37515               False               False                  True   \n37516               False               False                  True   \n37517               False               False                  True   \n\n       day_of_week_Sunday  day_of_week_Thursday  day_of_week_Tuesday   \n0                   False                 False                False  \\\n1                   False                 False                False   \n2                   False                 False                False   \n3                   False                 False                False   \n4                   False                 False                False   \n...                   ...                   ...                  ...   \n37513               False                 False                False   \n37514               False                 False                False   \n37515               False                 False                False   \n37516               False                 False                False   \n37517               False                 False                False   \n\n       day_of_week_Wednesday  hour_7  hour_8  hour_9  ...  lag_43.0  lag_46.0   \n0                      False   False   False    True  ...     False     False  \\\n1                      False   False   False    True  ...     False     False   \n2                      False   False   False    True  ...     False     False   \n3                      False   False   False    True  ...     False     False   \n4                      False   False   False    True  ...     False     False   \n...                      ...     ...     ...     ...  ...       ...       ...   \n37513                  False   False   False   False  ...     False     False   \n37514                  False   False   False   False  ...     False     False   \n37515                  False   False   False   False  ...     False     False   \n37516                  False   False   False   False  ...     False     False   \n37517                  False   False   False   False  ...     False     False   \n\n       lag_47.0  lag_48.0  lag_49.0  lag_50.0  lag_53.0  lag_54.0  lag_55.0   \n0         False     False     False     False     False     False     False  \\\n1         False     False     False     False     False     False     False   \n2         False     False     False     False     False     False     False   \n3         False     False     False     False     False     False     False   \n4         False     False     False     False     False     False     False   \n...         ...       ...       ...       ...       ...       ...       ...   \n37513     False     False     False     False     False     False     False   \n37514     False     False     False     False     False     False     False   \n37515     False     False     False     False     False     False     False   \n37516     False     False     False     False     False     False     False   \n37517     False     False     False     False     False     False     False   \n\n       lag_57.0  \n0         False  \n1         False  \n2         False  \n3         False  \n4         False  \n...         ...  \n37513     False  \n37514     False  \n37515     False  \n37516     False  \n37517     False  \n\n[37518 rows x 132 columns]",
      "text/html": "<div>\n<style scoped>\n    .dataframe tbody tr th:only-of-type {\n        vertical-align: middle;\n    }\n\n    .dataframe tbody tr th {\n        vertical-align: top;\n    }\n\n    .dataframe thead th {\n        text-align: right;\n    }\n</style>\n<table border=\"1\" class=\"dataframe\">\n  <thead>\n    <tr style=\"text-align: right;\">\n      <th></th>\n      <th>day_of_week_Friday</th>\n      <th>day_of_week_Monday</th>\n      <th>day_of_week_Saturday</th>\n      <th>day_of_week_Sunday</th>\n      <th>day_of_week_Thursday</th>\n      <th>day_of_week_Tuesday</th>\n      <th>day_of_week_Wednesday</th>\n      <th>hour_7</th>\n      <th>hour_8</th>\n      <th>hour_9</th>\n      <th>...</th>\n      <th>lag_43.0</th>\n      <th>lag_46.0</th>\n      <th>lag_47.0</th>\n      <th>lag_48.0</th>\n      <th>lag_49.0</th>\n      <th>lag_50.0</th>\n      <th>lag_53.0</th>\n      <th>lag_54.0</th>\n      <th>lag_55.0</th>\n      <th>lag_57.0</th>\n    </tr>\n  </thead>\n  <tbody>\n    <tr>\n      <th>0</th>\n      <td>True</td>\n      <td>False</td>\n      <td>False</td>\n      <td>False</td>\n      <td>False</td>\n      <td>False</td>\n      <td>False</td>\n      <td>False</td>\n      <td>False</td>\n      <td>True</td>\n      <td>...</td>\n      <td>False</td>\n      <td>False</td>\n      <td>False</td>\n      <td>False</td>\n      <td>False</td>\n      <td>False</td>\n      <td>False</td>\n      <td>False</td>\n      <td>False</td>\n      <td>False</td>\n    </tr>\n    <tr>\n      <th>1</th>\n      <td>True</td>\n      <td>False</td>\n      <td>False</td>\n      <td>False</td>\n      <td>False</td>\n      <td>False</td>\n      <td>False</td>\n      <td>False</td>\n      <td>False</td>\n      <td>True</td>\n      <td>...</td>\n      <td>False</td>\n      <td>False</td>\n      <td>False</td>\n      <td>False</td>\n      <td>False</td>\n      <td>False</td>\n      <td>False</td>\n      <td>False</td>\n      <td>False</td>\n      <td>False</td>\n    </tr>\n    <tr>\n      <th>2</th>\n      <td>True</td>\n      <td>False</td>\n      <td>False</td>\n      <td>False</td>\n      <td>False</td>\n      <td>False</td>\n      <td>False</td>\n      <td>False</td>\n      <td>False</td>\n      <td>True</td>\n      <td>...</td>\n      <td>False</td>\n      <td>False</td>\n      <td>False</td>\n      <td>False</td>\n      <td>False</td>\n      <td>False</td>\n      <td>False</td>\n      <td>False</td>\n      <td>False</td>\n      <td>False</td>\n    </tr>\n    <tr>\n      <th>3</th>\n      <td>True</td>\n      <td>False</td>\n      <td>False</td>\n      <td>False</td>\n      <td>False</td>\n      <td>False</td>\n      <td>False</td>\n      <td>False</td>\n      <td>False</td>\n      <td>True</td>\n      <td>...</td>\n      <td>False</td>\n      <td>False</td>\n      <td>False</td>\n      <td>False</td>\n      <td>False</td>\n      <td>False</td>\n      <td>False</td>\n      <td>False</td>\n      <td>False</td>\n      <td>False</td>\n    </tr>\n    <tr>\n      <th>4</th>\n      <td>True</td>\n      <td>False</td>\n      <td>False</td>\n      <td>False</td>\n      <td>False</td>\n      <td>False</td>\n      <td>False</td>\n      <td>False</td>\n      <td>False</td>\n      <td>True</td>\n      <td>...</td>\n      <td>False</td>\n      <td>False</td>\n      <td>False</td>\n      <td>False</td>\n      <td>False</td>\n      <td>False</td>\n      <td>False</td>\n      <td>False</td>\n      <td>False</td>\n      <td>False</td>\n    </tr>\n    <tr>\n      <th>...</th>\n      <td>...</td>\n      <td>...</td>\n      <td>...</td>\n      <td>...</td>\n      <td>...</td>\n      <td>...</td>\n      <td>...</td>\n      <td>...</td>\n      <td>...</td>\n      <td>...</td>\n      <td>...</td>\n      <td>...</td>\n      <td>...</td>\n      <td>...</td>\n      <td>...</td>\n      <td>...</td>\n      <td>...</td>\n      <td>...</td>\n      <td>...</td>\n      <td>...</td>\n      <td>...</td>\n    </tr>\n    <tr>\n      <th>37513</th>\n      <td>False</td>\n      <td>False</td>\n      <td>True</td>\n      <td>False</td>\n      <td>False</td>\n      <td>False</td>\n      <td>False</td>\n      <td>False</td>\n      <td>False</td>\n      <td>False</td>\n      <td>...</td>\n      <td>False</td>\n      <td>False</td>\n      <td>False</td>\n      <td>False</td>\n      <td>False</td>\n      <td>False</td>\n      <td>False</td>\n      <td>False</td>\n      <td>False</td>\n      <td>False</td>\n    </tr>\n    <tr>\n      <th>37514</th>\n      <td>False</td>\n      <td>False</td>\n      <td>True</td>\n      <td>False</td>\n      <td>False</td>\n      <td>False</td>\n      <td>False</td>\n      <td>False</td>\n      <td>False</td>\n      <td>False</td>\n      <td>...</td>\n      <td>False</td>\n      <td>False</td>\n      <td>False</td>\n      <td>False</td>\n      <td>False</td>\n      <td>False</td>\n      <td>False</td>\n      <td>False</td>\n      <td>False</td>\n      <td>False</td>\n    </tr>\n    <tr>\n      <th>37515</th>\n      <td>False</td>\n      <td>False</td>\n      <td>True</td>\n      <td>False</td>\n      <td>False</td>\n      <td>False</td>\n      <td>False</td>\n      <td>False</td>\n      <td>False</td>\n      <td>False</td>\n      <td>...</td>\n      <td>False</td>\n      <td>False</td>\n      <td>False</td>\n      <td>False</td>\n      <td>False</td>\n      <td>False</td>\n      <td>False</td>\n      <td>False</td>\n      <td>False</td>\n      <td>False</td>\n    </tr>\n    <tr>\n      <th>37516</th>\n      <td>False</td>\n      <td>False</td>\n      <td>True</td>\n      <td>False</td>\n      <td>False</td>\n      <td>False</td>\n      <td>False</td>\n      <td>False</td>\n      <td>False</td>\n      <td>False</td>\n      <td>...</td>\n      <td>False</td>\n      <td>False</td>\n      <td>False</td>\n      <td>False</td>\n      <td>False</td>\n      <td>False</td>\n      <td>False</td>\n      <td>False</td>\n      <td>False</td>\n      <td>False</td>\n    </tr>\n    <tr>\n      <th>37517</th>\n      <td>False</td>\n      <td>False</td>\n      <td>True</td>\n      <td>False</td>\n      <td>False</td>\n      <td>False</td>\n      <td>False</td>\n      <td>False</td>\n      <td>False</td>\n      <td>False</td>\n      <td>...</td>\n      <td>False</td>\n      <td>False</td>\n      <td>False</td>\n      <td>False</td>\n      <td>False</td>\n      <td>False</td>\n      <td>False</td>\n      <td>False</td>\n      <td>False</td>\n      <td>False</td>\n    </tr>\n  </tbody>\n</table>\n<p>37518 rows × 132 columns</p>\n</div>"
     },
     "execution_count": 915,
     "metadata": {},
     "output_type": "execute_result"
    }
   ],
   "source": [
    "x_d"
   ],
   "metadata": {
    "collapsed": false
   }
  },
  {
   "cell_type": "code",
   "execution_count": 916,
   "outputs": [
    {
     "data": {
      "text/plain": "      day_of_week_Friday  day_of_week_Monday  day_of_week_Saturday   \n0                  False               False                 False  \\\n1                  False               False                 False   \n2                  False               False                 False   \n3                  False               False                 False   \n4                  False               False                 False   \n...                  ...                 ...                   ...   \n7120                True               False                 False   \n7121                True               False                 False   \n7122                True               False                 False   \n7123                True               False                 False   \n7124                True               False                 False   \n\n      day_of_week_Sunday  day_of_week_Thursday  day_of_week_Tuesday   \n0                  False                 False                 True  \\\n1                  False                 False                 True   \n2                  False                 False                 True   \n3                  False                 False                 True   \n4                  False                 False                 True   \n...                  ...                   ...                  ...   \n7120               False                 False                False   \n7121               False                 False                False   \n7122               False                 False                False   \n7123               False                 False                False   \n7124               False                 False                False   \n\n      day_of_week_Wednesday  hour_7  hour_8  hour_9  ...  lag_43.0  lag_46.0   \n0                     False   False    True   False  ...     False     False  \\\n1                     False   False    True   False  ...     False     False   \n2                     False   False    True   False  ...     False     False   \n3                     False   False    True   False  ...     False     False   \n4                     False   False    True   False  ...     False     False   \n...                     ...     ...     ...     ...  ...       ...       ...   \n7120                  False   False   False   False  ...     False     False   \n7121                  False   False   False   False  ...     False     False   \n7122                  False   False   False   False  ...     False     False   \n7123                  False   False   False   False  ...     False     False   \n7124                  False   False   False   False  ...     False     False   \n\n      lag_47.0  lag_48.0  lag_49.0  lag_50.0  lag_53.0  lag_54.0  lag_55.0   \n0        False     False     False     False     False     False     False  \\\n1        False     False     False     False     False     False     False   \n2        False     False     False     False     False     False     False   \n3        False     False     False     False     False     False     False   \n4        False     False     False     False     False     False     False   \n...        ...       ...       ...       ...       ...       ...       ...   \n7120     False     False     False     False     False     False     False   \n7121     False     False     False     False     False     False     False   \n7122     False     False     False     False     False     False     False   \n7123     False     False     False     False     False     False     False   \n7124     False     False     False     False     False      True     False   \n\n      lag_57.0  \n0        False  \n1        False  \n2        False  \n3        False  \n4        False  \n...        ...  \n7120     False  \n7121     False  \n7122     False  \n7123     False  \n7124     False  \n\n[7125 rows x 132 columns]",
      "text/html": "<div>\n<style scoped>\n    .dataframe tbody tr th:only-of-type {\n        vertical-align: middle;\n    }\n\n    .dataframe tbody tr th {\n        vertical-align: top;\n    }\n\n    .dataframe thead th {\n        text-align: right;\n    }\n</style>\n<table border=\"1\" class=\"dataframe\">\n  <thead>\n    <tr style=\"text-align: right;\">\n      <th></th>\n      <th>day_of_week_Friday</th>\n      <th>day_of_week_Monday</th>\n      <th>day_of_week_Saturday</th>\n      <th>day_of_week_Sunday</th>\n      <th>day_of_week_Thursday</th>\n      <th>day_of_week_Tuesday</th>\n      <th>day_of_week_Wednesday</th>\n      <th>hour_7</th>\n      <th>hour_8</th>\n      <th>hour_9</th>\n      <th>...</th>\n      <th>lag_43.0</th>\n      <th>lag_46.0</th>\n      <th>lag_47.0</th>\n      <th>lag_48.0</th>\n      <th>lag_49.0</th>\n      <th>lag_50.0</th>\n      <th>lag_53.0</th>\n      <th>lag_54.0</th>\n      <th>lag_55.0</th>\n      <th>lag_57.0</th>\n    </tr>\n  </thead>\n  <tbody>\n    <tr>\n      <th>0</th>\n      <td>False</td>\n      <td>False</td>\n      <td>False</td>\n      <td>False</td>\n      <td>False</td>\n      <td>True</td>\n      <td>False</td>\n      <td>False</td>\n      <td>True</td>\n      <td>False</td>\n      <td>...</td>\n      <td>False</td>\n      <td>False</td>\n      <td>False</td>\n      <td>False</td>\n      <td>False</td>\n      <td>False</td>\n      <td>False</td>\n      <td>False</td>\n      <td>False</td>\n      <td>False</td>\n    </tr>\n    <tr>\n      <th>1</th>\n      <td>False</td>\n      <td>False</td>\n      <td>False</td>\n      <td>False</td>\n      <td>False</td>\n      <td>True</td>\n      <td>False</td>\n      <td>False</td>\n      <td>True</td>\n      <td>False</td>\n      <td>...</td>\n      <td>False</td>\n      <td>False</td>\n      <td>False</td>\n      <td>False</td>\n      <td>False</td>\n      <td>False</td>\n      <td>False</td>\n      <td>False</td>\n      <td>False</td>\n      <td>False</td>\n    </tr>\n    <tr>\n      <th>2</th>\n      <td>False</td>\n      <td>False</td>\n      <td>False</td>\n      <td>False</td>\n      <td>False</td>\n      <td>True</td>\n      <td>False</td>\n      <td>False</td>\n      <td>True</td>\n      <td>False</td>\n      <td>...</td>\n      <td>False</td>\n      <td>False</td>\n      <td>False</td>\n      <td>False</td>\n      <td>False</td>\n      <td>False</td>\n      <td>False</td>\n      <td>False</td>\n      <td>False</td>\n      <td>False</td>\n    </tr>\n    <tr>\n      <th>3</th>\n      <td>False</td>\n      <td>False</td>\n      <td>False</td>\n      <td>False</td>\n      <td>False</td>\n      <td>True</td>\n      <td>False</td>\n      <td>False</td>\n      <td>True</td>\n      <td>False</td>\n      <td>...</td>\n      <td>False</td>\n      <td>False</td>\n      <td>False</td>\n      <td>False</td>\n      <td>False</td>\n      <td>False</td>\n      <td>False</td>\n      <td>False</td>\n      <td>False</td>\n      <td>False</td>\n    </tr>\n    <tr>\n      <th>4</th>\n      <td>False</td>\n      <td>False</td>\n      <td>False</td>\n      <td>False</td>\n      <td>False</td>\n      <td>True</td>\n      <td>False</td>\n      <td>False</td>\n      <td>True</td>\n      <td>False</td>\n      <td>...</td>\n      <td>False</td>\n      <td>False</td>\n      <td>False</td>\n      <td>False</td>\n      <td>False</td>\n      <td>False</td>\n      <td>False</td>\n      <td>False</td>\n      <td>False</td>\n      <td>False</td>\n    </tr>\n    <tr>\n      <th>...</th>\n      <td>...</td>\n      <td>...</td>\n      <td>...</td>\n      <td>...</td>\n      <td>...</td>\n      <td>...</td>\n      <td>...</td>\n      <td>...</td>\n      <td>...</td>\n      <td>...</td>\n      <td>...</td>\n      <td>...</td>\n      <td>...</td>\n      <td>...</td>\n      <td>...</td>\n      <td>...</td>\n      <td>...</td>\n      <td>...</td>\n      <td>...</td>\n      <td>...</td>\n      <td>...</td>\n    </tr>\n    <tr>\n      <th>7120</th>\n      <td>True</td>\n      <td>False</td>\n      <td>False</td>\n      <td>False</td>\n      <td>False</td>\n      <td>False</td>\n      <td>False</td>\n      <td>False</td>\n      <td>False</td>\n      <td>False</td>\n      <td>...</td>\n      <td>False</td>\n      <td>False</td>\n      <td>False</td>\n      <td>False</td>\n      <td>False</td>\n      <td>False</td>\n      <td>False</td>\n      <td>False</td>\n      <td>False</td>\n      <td>False</td>\n    </tr>\n    <tr>\n      <th>7121</th>\n      <td>True</td>\n      <td>False</td>\n      <td>False</td>\n      <td>False</td>\n      <td>False</td>\n      <td>False</td>\n      <td>False</td>\n      <td>False</td>\n      <td>False</td>\n      <td>False</td>\n      <td>...</td>\n      <td>False</td>\n      <td>False</td>\n      <td>False</td>\n      <td>False</td>\n      <td>False</td>\n      <td>False</td>\n      <td>False</td>\n      <td>False</td>\n      <td>False</td>\n      <td>False</td>\n    </tr>\n    <tr>\n      <th>7122</th>\n      <td>True</td>\n      <td>False</td>\n      <td>False</td>\n      <td>False</td>\n      <td>False</td>\n      <td>False</td>\n      <td>False</td>\n      <td>False</td>\n      <td>False</td>\n      <td>False</td>\n      <td>...</td>\n      <td>False</td>\n      <td>False</td>\n      <td>False</td>\n      <td>False</td>\n      <td>False</td>\n      <td>False</td>\n      <td>False</td>\n      <td>False</td>\n      <td>False</td>\n      <td>False</td>\n    </tr>\n    <tr>\n      <th>7123</th>\n      <td>True</td>\n      <td>False</td>\n      <td>False</td>\n      <td>False</td>\n      <td>False</td>\n      <td>False</td>\n      <td>False</td>\n      <td>False</td>\n      <td>False</td>\n      <td>False</td>\n      <td>...</td>\n      <td>False</td>\n      <td>False</td>\n      <td>False</td>\n      <td>False</td>\n      <td>False</td>\n      <td>False</td>\n      <td>False</td>\n      <td>False</td>\n      <td>False</td>\n      <td>False</td>\n    </tr>\n    <tr>\n      <th>7124</th>\n      <td>True</td>\n      <td>False</td>\n      <td>False</td>\n      <td>False</td>\n      <td>False</td>\n      <td>False</td>\n      <td>False</td>\n      <td>False</td>\n      <td>False</td>\n      <td>False</td>\n      <td>...</td>\n      <td>False</td>\n      <td>False</td>\n      <td>False</td>\n      <td>False</td>\n      <td>False</td>\n      <td>False</td>\n      <td>False</td>\n      <td>True</td>\n      <td>False</td>\n      <td>False</td>\n    </tr>\n  </tbody>\n</table>\n<p>7125 rows × 132 columns</p>\n</div>"
     },
     "execution_count": 916,
     "metadata": {},
     "output_type": "execute_result"
    }
   ],
   "source": [
    "x_test_d"
   ],
   "metadata": {
    "collapsed": false
   }
  },
  {
   "cell_type": "code",
   "execution_count": 917,
   "outputs": [],
   "source": [
    "predicted=model_full.predict(x_test_d_sc)"
   ],
   "metadata": {
    "collapsed": false
   }
  },
  {
   "cell_type": "code",
   "execution_count": 918,
   "outputs": [
    {
     "data": {
      "text/plain": "7125"
     },
     "execution_count": 918,
     "metadata": {},
     "output_type": "execute_result"
    }
   ],
   "source": [
    "len(predicted)"
   ],
   "metadata": {
    "collapsed": false
   }
  },
  {
   "cell_type": "code",
   "execution_count": 919,
   "outputs": [],
   "source": [
    "submit=pd.DataFrame(predicted)"
   ],
   "metadata": {
    "collapsed": false
   }
  },
  {
   "cell_type": "code",
   "execution_count": 920,
   "outputs": [],
   "source": [
    "submit.rename(columns={0:'target'},inplace=True)"
   ],
   "metadata": {
    "collapsed": false
   }
  },
  {
   "cell_type": "code",
   "execution_count": 921,
   "outputs": [],
   "source": [
    "\n",
    "submit['row_id']=range(37518,44643)"
   ],
   "metadata": {
    "collapsed": false
   }
  },
  {
   "cell_type": "code",
   "execution_count": 922,
   "outputs": [],
   "source": [
    "submit.reset_index(drop=True,inplace=True)\n",
    "submit=submit[['row_id','target']]"
   ],
   "metadata": {
    "collapsed": false
   }
  },
  {
   "cell_type": "code",
   "execution_count": 923,
   "outputs": [],
   "source": [
    "submit.to_csv(r'C:\\Users\\Alexander\\PycharmProjects\\gates\\submition.csv',index=False)"
   ],
   "metadata": {
    "collapsed": false
   }
  },
  {
   "cell_type": "code",
   "execution_count": 924,
   "outputs": [
    {
     "data": {
      "text/plain": "Index(['row_id', 'target'], dtype='object')"
     },
     "execution_count": 924,
     "metadata": {},
     "output_type": "execute_result"
    }
   ],
   "source": [
    "submit.columns"
   ],
   "metadata": {
    "collapsed": false
   }
  },
  {
   "cell_type": "code",
   "execution_count": null,
   "outputs": [],
   "source": [],
   "metadata": {
    "collapsed": false,
    "pycharm": {
     "is_executing": true
    }
   }
  },
  {
   "cell_type": "code",
   "execution_count": 504,
   "outputs": [],
   "source": [],
   "metadata": {
    "collapsed": false
   }
  }
 ],
 "metadata": {
  "kernelspec": {
   "display_name": "Python 3",
   "language": "python",
   "name": "python3"
  },
  "language_info": {
   "codemirror_mode": {
    "name": "ipython",
    "version": 2
   },
   "file_extension": ".py",
   "mimetype": "text/x-python",
   "name": "python",
   "nbconvert_exporter": "python",
   "pygments_lexer": "ipython2",
   "version": "2.7.6"
  }
 },
 "nbformat": 4,
 "nbformat_minor": 0
}
